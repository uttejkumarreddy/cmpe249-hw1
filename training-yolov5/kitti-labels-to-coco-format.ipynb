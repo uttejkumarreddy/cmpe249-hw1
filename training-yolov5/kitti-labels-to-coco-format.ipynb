{
 "cells": [
  {
   "cell_type": "code",
   "execution_count": 1,
   "metadata": {},
   "outputs": [],
   "source": [
    "import os\n",
    "from PIL import Image\n",
    "import cv2"
   ]
  },
  {
   "cell_type": "code",
   "execution_count": 2,
   "metadata": {},
   "outputs": [],
   "source": [
    "# Paths\n",
    "raw_labels_train_path = 'D:\\\\present\\\\cmpe249-hw1\\\\dataset\\\\labels-raw\\\\train'\n",
    "raw_labels_test_path = 'D:\\\\present\\\\cmpe249-hw1\\\\dataset\\\\labels-raw\\\\test'\n",
    "\n",
    "labels_train_path = 'D:\\\\present\\\\cmpe249-hw1\\\\dataset\\\\labels\\\\train'\n",
    "labels_test_path = 'D:\\\\present\\\\cmpe249-hw1\\\\dataset\\\\labels\\\\test'\n",
    "\n",
    "image_train_path = 'D:\\\\present\\\\cmpe249-hw1\\\\dataset\\\\images\\\\train'\n",
    "image_test_path = 'D:\\\\present\\\\cmpe249-hw1\\\\dataset\\\\images\\\\test'"
   ]
  },
  {
   "cell_type": "code",
   "execution_count": 3,
   "metadata": {},
   "outputs": [],
   "source": [
    "categories = {}\n",
    "\n",
    "# Find all the categories and add them to the coco object\n",
    "for file in os.listdir(raw_labels_train_path):\n",
    "\twith open(raw_labels_train_path + '\\\\' + file, 'r') as f:\n",
    "\t\tfile_name = file[:-4]\n",
    "\t\tfor line in f:\n",
    "\t\t\tcategory = line.split(None, 1)[0]\n",
    "\t\t\tif category not in categories:\n",
    "\t\t\t\tcategories[category] = len(categories)"
   ]
  },
  {
   "cell_type": "code",
   "execution_count": 4,
   "metadata": {},
   "outputs": [
    {
     "data": {
      "text/plain": [
       "{'Pedestrian': 0,\n",
       " 'Truck': 1,\n",
       " 'Car': 2,\n",
       " 'Cyclist': 3,\n",
       " 'DontCare': 4,\n",
       " 'Misc': 5,\n",
       " 'Van': 6,\n",
       " 'Tram': 7,\n",
       " 'Person_sitting': 8}"
      ]
     },
     "execution_count": 4,
     "metadata": {},
     "output_type": "execute_result"
    }
   ],
   "source": [
    "categories"
   ]
  },
  {
   "cell_type": "code",
   "execution_count": 5,
   "metadata": {},
   "outputs": [],
   "source": [
    "tmp_image_path = image_train_path + '\\\\' + '000000.png'\n",
    "img_width = cv2.imread(tmp_image_path).shape[1]\n",
    "img_height = cv2.imread(tmp_image_path).shape[0]"
   ]
  },
  {
   "cell_type": "code",
   "execution_count": 6,
   "metadata": {},
   "outputs": [],
   "source": [
    "# Reference: https://github.com/packyan/Kitti2Coco/blob/master/kitti2coco-label-trans.py\n",
    "for file in os.listdir(raw_labels_train_path):\n",
    "\twith open(raw_labels_train_path + '\\\\' + file, 'r') as f:\n",
    "\t\tfile_name = file[:-4]\n",
    "\t\timage_name = file_name + '.png'\n",
    "\t\timage_path = image_train_path + '\\\\' + file_name + '.png'\n",
    "\n",
    "\t\tnew_line = ''\n",
    "\n",
    "\t\tfor line in f:\n",
    "\t\t\tcategory = line.split(None, 1)[0]\n",
    "\n",
    "\t\t\tdata = line.split(' ')\n",
    "\n",
    "\t\t\tx1 = float(data[4])\n",
    "\t\t\ty1 = float(data[5])\n",
    "\t\t\tx2 = float(data[6])\n",
    "\t\t\ty2 = float(data[7])\n",
    "\t\t\t\n",
    "\t\t\tintx1 = int(x1)\n",
    "\t\t\tinty1 = int(y1)\n",
    "\t\t\tintx2 = int(x2)\n",
    "\t\t\tinty2 = int(y2)\n",
    "\n",
    "\t\t\tbbox_center_x = float( (x1 + (x2 - x1) / 2.0) / img_width)\n",
    "\t\t\tbbox_center_y = float( (y1 + (y2 - y1) / 2.0) / img_height)\n",
    "\t\t\tbbox_width = float((x2 - x1) / img_width)\n",
    "\t\t\tbbox_height = float((y2 - y1) / img_height)\n",
    "\n",
    "\t\t\tnew_line += str(categories[category]) + ' ' + str(bbox_center_x) + ' ' + str(bbox_center_y) + ' ' + str(bbox_width) + ' ' + str(bbox_height) + '\\n'\n",
    "\n",
    "\t\twith open(labels_train_path + '\\\\' + file_name + '.txt' , 'w') as f:\n",
    "\t\t\tf.write(new_line)"
   ]
  },
  {
   "cell_type": "code",
   "execution_count": 8,
   "metadata": {},
   "outputs": [],
   "source": [
    "for file in os.listdir(raw_labels_test_path):\n",
    "\twith open(raw_labels_test_path + '\\\\' + file, 'r') as f:\n",
    "\t\tfile_name = file[:-4]\n",
    "\t\timage_name = file_name + '.png'\n",
    "\t\timage_path = image_test_path + '\\\\' + file_name + '.png'\n",
    "\n",
    "\t\tnew_line = ''\n",
    "\n",
    "\t\tfor line in f:\n",
    "\t\t\tcategory = line.split(None, 1)[0]\n",
    "\n",
    "\t\t\tdata = line.split(' ')\n",
    "\n",
    "\t\t\tx1 = float(data[4])\n",
    "\t\t\ty1 = float(data[5])\n",
    "\t\t\tx2 = float(data[6])\n",
    "\t\t\ty2 = float(data[7])\n",
    "\t\t\t\n",
    "\t\t\tintx1 = int(x1)\n",
    "\t\t\tinty1 = int(y1)\n",
    "\t\t\tintx2 = int(x2)\n",
    "\t\t\tinty2 = int(y2)\n",
    "\n",
    "\t\t\tbbox_center_x = float( (x1 + (x2 - x1) / 2.0) / img_width)\n",
    "\t\t\tbbox_center_y = float( (y1 + (y2 - y1) / 2.0) / img_height)\n",
    "\t\t\tbbox_width = float((x2 - x1) / img_width)\n",
    "\t\t\tbbox_height = float((y2 - y1) / img_height)\n",
    "\n",
    "\t\t\tnew_line += str(categories[category]) + ' ' + str(bbox_center_x) + ' ' + str(bbox_center_y) + ' ' + str(bbox_width) + ' ' + str(bbox_height) + '\\n'\n",
    "\n",
    "\t\twith open(labels_test_path + '\\\\' + file_name + '.txt' , 'w') as f:\n",
    "\t\t\tf.write(new_line)"
   ]
  }
 ],
 "metadata": {
  "kernelspec": {
   "display_name": "Python 3",
   "language": "python",
   "name": "python3"
  },
  "language_info": {
   "codemirror_mode": {
    "name": "ipython",
    "version": 3
   },
   "file_extension": ".py",
   "mimetype": "text/x-python",
   "name": "python",
   "nbconvert_exporter": "python",
   "pygments_lexer": "ipython3",
   "version": "3.11.3"
  }
 },
 "nbformat": 4,
 "nbformat_minor": 2
}
