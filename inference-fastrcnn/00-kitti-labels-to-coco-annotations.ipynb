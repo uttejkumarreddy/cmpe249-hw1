{
 "cells": [
  {
   "cell_type": "code",
   "execution_count": 1,
   "metadata": {},
   "outputs": [],
   "source": [
    "from sahi.utils.coco import Coco, CocoCategory, CocoImage, CocoAnnotation\n",
    "from sahi.utils.file import save_json\n",
    "import cv2\n",
    "import os\n",
    "from PIL import Image"
   ]
  },
  {
   "cell_type": "code",
   "execution_count": 2,
   "metadata": {},
   "outputs": [],
   "source": [
    "# Paths\n",
    "raw_labels_train_path = 'D:\\\\present\\\\cmpe249-hw1\\\\dataset\\\\labels-raw\\\\train'\n",
    "raw_labels_test_path = 'D:\\\\present\\\\cmpe249-hw1\\\\dataset\\\\labels-raw\\\\test'\n",
    "\n",
    "image_train_path = 'D:\\\\present\\\\cmpe249-hw1\\\\dataset\\\\images\\\\train'\n",
    "image_test_path = 'D:\\\\present\\\\cmpe249-hw1\\\\dataset\\\\images\\\\test'\n",
    "\n",
    "coco_annotations_path = 'D:\\\\present\\\\cmpe249-hw1\\\\dataset\\\\coco-annotations'"
   ]
  },
  {
   "cell_type": "code",
   "execution_count": 3,
   "metadata": {},
   "outputs": [],
   "source": [
    "# Find categories in the dataset\n",
    "categories = {}\n",
    "\n",
    "# Find all the categories and add them to the coco object\n",
    "for file in os.listdir(raw_labels_train_path):\n",
    "\twith open(raw_labels_train_path + '\\\\' + file, 'r') as f:\n",
    "\t\tfile_name = file[:-4]\n",
    "\t\tfor line in f:\n",
    "\t\t\tcategory = line.split(None, 1)[0]\n",
    "\t\t\tif category not in categories:\n",
    "\t\t\t\tcategories[category] = len(categories)"
   ]
  },
  {
   "cell_type": "code",
   "execution_count": 4,
   "metadata": {},
   "outputs": [],
   "source": [
    "# Create a Coco object and add categories to it\n",
    "coco = Coco()\n",
    "\n",
    "for idx, (key, value) in enumerate(categories.items()):\n",
    "\tcoco.add_category(CocoCategory(id=value, name=key))"
   ]
  },
  {
   "cell_type": "code",
   "execution_count": 5,
   "metadata": {},
   "outputs": [],
   "source": [
    "# Get image height and width in dataset\n",
    "tmp_image_path = image_train_path + '\\\\\\\\' + '000000.png'\n",
    "img_width = cv2.imread(tmp_image_path).shape[1]\n",
    "img_height = cv2.imread(tmp_image_path).shape[0]"
   ]
  },
  {
   "cell_type": "code",
   "execution_count": 6,
   "metadata": {},
   "outputs": [],
   "source": [
    "# Reference: https://github.com/packyan/Kitti2Coco/blob/master/kitti2coco-label-trans.py\n",
    "\n",
    "for file in os.listdir(raw_labels_train_path):\n",
    "\twith open(raw_labels_train_path + '\\\\\\\\' + file, 'r') as f:\n",
    "\t\tfile_name = file[:-4]\n",
    "\t\timage_name = file_name + '.png'\n",
    "\t\timage_path = image_train_path + '\\\\\\\\' + image_name + '.png'\n",
    "\n",
    "\t\t# Create a CocoImage object\n",
    "\t\tcoco_image = CocoImage(file_name=image_name, height=img_height, width=img_width)\n",
    "\n",
    "\t\tfor line in f:\n",
    "\t\t\t\tcategory = line.split(None, 1)[0]\n",
    "\n",
    "\t\t\t\tdata = line.split(' ')\n",
    "\n",
    "\t\t\t\tx1 = float(data[4])\n",
    "\t\t\t\ty1 = float(data[5])\n",
    "\t\t\t\tx2 = float(data[6])\n",
    "\t\t\t\ty2 = float(data[7])\n",
    "\t\t\t\t\n",
    "\t\t\t\tintx1 = int(x1)\n",
    "\t\t\t\tinty1 = int(y1)\n",
    "\t\t\t\tintx2 = int(x2)\n",
    "\t\t\t\tinty2 = int(y2)\n",
    "\n",
    "\t\t\t\tbbox_center_x = float( (x1 + (x2 - x1) / 2.0) / img_width)\n",
    "\t\t\t\tbbox_center_y = float( (y1 + (y2 - y1) / 2.0) / img_height)\n",
    "\t\t\t\tbbox_width = float((x2 - x1) / img_width)\n",
    "\t\t\t\tbbox_height = float((y2 - y1) / img_height)\n",
    "\n",
    "\t\t\t\tcoco_image.add_annotation(\n",
    "\t\t\t\t\tCocoAnnotation(\n",
    "\t\t\t\t\t\tbbox = [bbox_center_x, bbox_center_y, bbox_width, bbox_height],\n",
    "\t\t\t\t\t\tcategory_id = categories[category],\n",
    "\t\t\t\t\t\tcategory_name = category\n",
    "\t\t\t\t\t)\n",
    "\t\t\t\t)\n",
    "\n",
    "\t\tcoco.add_image(coco_image)"
   ]
  },
  {
   "cell_type": "code",
   "execution_count": 7,
   "metadata": {},
   "outputs": [],
   "source": [
    "save_json(data = coco.json, save_path = coco_annotations_path + '\\\\annotations_train.json')"
   ]
  },
  {
   "cell_type": "code",
   "execution_count": 8,
   "metadata": {},
   "outputs": [],
   "source": [
    "# Create a Coco object again for test and add categories to it\n",
    "coco = Coco()\n",
    "\n",
    "for idx, (key, value) in enumerate(categories.items()):\n",
    "\tcoco.add_category(CocoCategory(id=value, name=key))"
   ]
  },
  {
   "cell_type": "code",
   "execution_count": 9,
   "metadata": {},
   "outputs": [],
   "source": [
    "for file in os.listdir(raw_labels_test_path):\n",
    "\twith open(raw_labels_test_path + '\\\\\\\\' + file, 'r') as f:\n",
    "\t\tfile_name = file[:-4]\n",
    "\t\timage_name = file_name + '.png'\n",
    "\t\timage_path = image_train_path + '\\\\\\\\' + image_name + '.png'\n",
    "\n",
    "\t\t# Create a CocoImage object\n",
    "\t\tcoco_image = CocoImage(file_name=image_name, height=img_height, width=img_width)\n",
    "\n",
    "\t\tfor line in f:\n",
    "\t\t\t\tcategory = line.split(None, 1)[0]\n",
    "\n",
    "\t\t\t\tdata = line.split(' ')\n",
    "\n",
    "\t\t\t\tx1 = float(data[4])\n",
    "\t\t\t\ty1 = float(data[5])\n",
    "\t\t\t\tx2 = float(data[6])\n",
    "\t\t\t\ty2 = float(data[7])\n",
    "\t\t\t\t\n",
    "\t\t\t\tintx1 = int(x1)\n",
    "\t\t\t\tinty1 = int(y1)\n",
    "\t\t\t\tintx2 = int(x2)\n",
    "\t\t\t\tinty2 = int(y2)\n",
    "\n",
    "\t\t\t\tbbox_center_x = float( (x1 + (x2 - x1) / 2.0) / img_width)\n",
    "\t\t\t\tbbox_center_y = float( (y1 + (y2 - y1) / 2.0) / img_height)\n",
    "\t\t\t\tbbox_width = float((x2 - x1) / img_width)\n",
    "\t\t\t\tbbox_height = float((y2 - y1) / img_height)\n",
    "\n",
    "\t\t\t\tcoco_image.add_annotation(\n",
    "\t\t\t\t\tCocoAnnotation(\n",
    "\t\t\t\t\t\tbbox = [bbox_center_x, bbox_center_y, bbox_width, bbox_height],\n",
    "\t\t\t\t\t\tcategory_id = categories[category],\n",
    "\t\t\t\t\t\tcategory_name = category\n",
    "\t\t\t\t\t)\n",
    "\t\t\t\t)\n",
    "\n",
    "\t\tcoco.add_image(coco_image)"
   ]
  },
  {
   "cell_type": "code",
   "execution_count": 10,
   "metadata": {},
   "outputs": [],
   "source": [
    "save_json(data = coco.json, save_path = coco_annotations_path + '\\\\annotations_test.json')"
   ]
  }
 ],
 "metadata": {
  "kernelspec": {
   "display_name": "Python 3",
   "language": "python",
   "name": "python3"
  },
  "language_info": {
   "codemirror_mode": {
    "name": "ipython",
    "version": 3
   },
   "file_extension": ".py",
   "mimetype": "text/x-python",
   "name": "python",
   "nbconvert_exporter": "python",
   "pygments_lexer": "ipython3",
   "version": "3.11.3"
  }
 },
 "nbformat": 4,
 "nbformat_minor": 2
}
