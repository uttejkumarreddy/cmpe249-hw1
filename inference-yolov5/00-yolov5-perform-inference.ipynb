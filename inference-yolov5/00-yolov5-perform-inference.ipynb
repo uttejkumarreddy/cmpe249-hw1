{
 "cells": [
  {
   "cell_type": "code",
   "execution_count": 1,
   "metadata": {},
   "outputs": [],
   "source": [
    "# Reference: https://pytorch.org/hub/ultralytics_yolov5/\n",
    "import torch\n",
    "import os\n",
    "import cv2\n",
    "import numpy as np"
   ]
  },
  {
   "cell_type": "code",
   "execution_count": 2,
   "metadata": {},
   "outputs": [
    {
     "name": "stderr",
     "output_type": "stream",
     "text": [
      "Using cache found in C:\\Users\\uttej/.cache\\torch\\hub\\ultralytics_yolov5_master\n",
      "YOLOv5  2023-10-15 Python-3.11.3 torch-2.1.0+cu118 CUDA:0 (NVIDIA GeForce GTX 1050 Ti, 4096MiB)\n",
      "\n",
      "Fusing layers... \n",
      "YOLOv5s summary: 213 layers, 7225885 parameters, 0 gradients, 16.4 GFLOPs\n",
      "Adding AutoShape... \n"
     ]
    }
   ],
   "source": [
    "model = torch.hub.load('ultralytics/yolov5', 'yolov5s', pretrained=True)"
   ]
  },
  {
   "cell_type": "code",
   "execution_count": 3,
   "metadata": {},
   "outputs": [],
   "source": [
    "test_dir = 'D:\\\\present\\\\cmpe249-hw1\\\\dataset\\\\images\\\\test'\n",
    "images = os.listdir(test_dir)\n",
    "\n",
    "image_paths = []\n",
    "for img_name in images:\n",
    "\timage_paths.append(test_dir + '\\\\' + img_name)\n",
    "\n",
    "images = [cv2.imread(img_path) for img_path in image_paths]"
   ]
  },
  {
   "cell_type": "code",
   "execution_count": 4,
   "metadata": {},
   "outputs": [],
   "source": [
    "# Get predictions\n",
    "results = model(images)"
   ]
  },
  {
   "cell_type": "code",
   "execution_count": 5,
   "metadata": {},
   "outputs": [],
   "source": [
    "# Store predictions in list of list of lists\n",
    "df_lists = results.pandas().xyxy\n",
    "\n",
    "all_detections = []\n",
    "for df in df_lists:\n",
    "\tall_detections.append(df.values.tolist())"
   ]
  },
  {
   "cell_type": "code",
   "execution_count": 6,
   "metadata": {},
   "outputs": [],
   "source": [
    "# Only select those with required categories\n",
    "# Convert keys to lowercase to match with detections' categories\n",
    "categories = {\n",
    "    \"pedestrian\": 0,\n",
    "    \"truck\": 1,\n",
    "    \"car\": 2,\n",
    "    \"cyclist\": 3,\n",
    "    \"dontCare\": 4,\n",
    "    \"misc\": 5,\n",
    "    \"van\": 6,\n",
    "    \"tram\": 7,\n",
    "    \"person_sitting\": 8,\n",
    "}"
   ]
  },
  {
   "cell_type": "code",
   "execution_count": 7,
   "metadata": {},
   "outputs": [],
   "source": [
    "tmp_image_path = 'D:\\\\present\\\\cmpe249-hw1\\\\dataset\\\\images\\\\test\\\\001000.png'\n",
    "img_width = cv2.imread(tmp_image_path).shape[1]\n",
    "img_height = cv2.imread(tmp_image_path).shape[0]"
   ]
  },
  {
   "cell_type": "code",
   "execution_count": 8,
   "metadata": {},
   "outputs": [],
   "source": [
    "image_id = 0\n",
    "coco_results = []\n",
    "for image_detections in all_detections:\n",
    "\timage_id += 1\n",
    "\tfor detection in image_detections:\n",
    "\t\tx1, y1, x2, y2, conf, clss, category = detection\n",
    "\n",
    "\t\tintx1 = int(x1)\n",
    "\t\tinty1 = int(y1)\n",
    "\t\tintx2 = int(x2)\n",
    "\t\tinty2 = int(y2)\n",
    "\n",
    "\t\tbbox_center_x = float( (x1 + (x2 - x1) / 2.0) / img_width)\n",
    "\t\tbbox_center_y = float( (y1 + (y2 - y1) / 2.0) / img_height)\n",
    "\t\tbbox_width = float((x2 - x1) / img_width)\n",
    "\t\tbbox_height = float((y2 - y1) / img_height)\n",
    "\n",
    "\t\tif category in categories:\n",
    "\t\t\tcoco_result = {\n",
    "\t\t\t\t\"image_id\": image_id,\n",
    "\t\t\t\t\"category_id\": categories[category],\n",
    "\t\t\t\t\"bbox\": [bbox_center_x, bbox_center_y, bbox_width, bbox_height],\n",
    "\t\t\t\t\"score\": conf,\n",
    "\t\t\t}\n",
    "\t\t\tcoco_results.append(coco_result)"
   ]
  },
  {
   "cell_type": "code",
   "execution_count": 9,
   "metadata": {},
   "outputs": [],
   "source": [
    "import json\n",
    "\n",
    "with open('predictions.json', 'w') as f:\n",
    "\tjson.dump(coco_results, f)"
   ]
  },
  {
   "cell_type": "code",
   "execution_count": null,
   "metadata": {},
   "outputs": [],
   "source": []
  }
 ],
 "metadata": {
  "kernelspec": {
   "display_name": "Python 3",
   "language": "python",
   "name": "python3"
  },
  "language_info": {
   "codemirror_mode": {
    "name": "ipython",
    "version": 3
   },
   "file_extension": ".py",
   "mimetype": "text/x-python",
   "name": "python",
   "nbconvert_exporter": "python",
   "pygments_lexer": "ipython3",
   "version": "3.11.3"
  }
 },
 "nbformat": 4,
 "nbformat_minor": 2
}
