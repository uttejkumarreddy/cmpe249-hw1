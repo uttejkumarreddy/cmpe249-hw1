{
 "cells": [
  {
   "cell_type": "code",
   "execution_count": 49,
   "metadata": {},
   "outputs": [],
   "source": [
    "# Reference: https://pytorch.org/hub/ultralytics_yolov5/\n",
    "import torch\n",
    "import os\n",
    "import cv2\n",
    "import numpy as np"
   ]
  },
  {
   "cell_type": "code",
   "execution_count": 50,
   "metadata": {},
   "outputs": [
    {
     "name": "stderr",
     "output_type": "stream",
     "text": [
      "Using cache found in C:\\Users\\uttej/.cache\\torch\\hub\\ultralytics_yolov5_master\n",
      "YOLOv5  2023-10-15 Python-3.11.3 torch-2.1.0+cu118 CPU\n",
      "\n",
      "Fusing layers... \n",
      "YOLOv5s summary: 213 layers, 7225885 parameters, 0 gradients, 16.4 GFLOPs\n",
      "Adding AutoShape... \n"
     ]
    }
   ],
   "source": [
    "model = torch.hub.load('ultralytics/yolov5', 'yolov5s', pretrained=True)"
   ]
  },
  {
   "cell_type": "code",
   "execution_count": 51,
   "metadata": {},
   "outputs": [],
   "source": [
    "test_dir = 'D:\\\\present\\\\cmpe249-hw1\\\\dataset\\\\images\\\\test'\n",
    "images = os.listdir(test_dir)\n",
    "\n",
    "image_paths = []\n",
    "for img_name in images:\n",
    "\timage_paths.append(test_dir + '\\\\' + img_name)\n",
    "\n",
    "images = [cv2.imread(img_path) for img_path in image_paths]\n",
    "images = [cv2.cvtColor(img, cv2.COLOR_BGR2RGB) for img in images]"
   ]
  },
  {
   "cell_type": "code",
   "execution_count": 52,
   "metadata": {},
   "outputs": [],
   "source": [
    "# Get predictions\n",
    "results = model(images)"
   ]
  },
  {
   "cell_type": "code",
   "execution_count": 75,
   "metadata": {},
   "outputs": [],
   "source": [
    "# Store predictions in list of list of lists\n",
    "df_lists = results.pandas().xyxy\n",
    "\n",
    "all_detections = []\n",
    "for df in df_lists:\n",
    "\tall_detections.append(df.values.tolist())"
   ]
  },
  {
   "cell_type": "code",
   "execution_count": 80,
   "metadata": {},
   "outputs": [],
   "source": [
    "# Only select those with required categories\n",
    "# Convert keys to lowercase to match with detections' categories\n",
    "categories = {\n",
    "    \"pedestrian\": 0,\n",
    "    \"truck\": 1,\n",
    "    \"car\": 2,\n",
    "    \"cyclist\": 3,\n",
    "    \"dontCare\": 4,\n",
    "    \"misc\": 5,\n",
    "    \"van\": 6,\n",
    "    \"tram\": 7,\n",
    "    \"person_sitting\": 8,\n",
    "}"
   ]
  },
  {
   "cell_type": "code",
   "execution_count": 81,
   "metadata": {},
   "outputs": [],
   "source": [
    "image_id = 0\n",
    "coco_results = []\n",
    "for image_detections in all_detections:\n",
    "\timage_id += 1\n",
    "\tfor detection in image_detections:\n",
    "\t\txmin, ymin, xmax, ymax, conf, clss, category = detection\n",
    "\t\tif category in categories:\n",
    "\t\t\tcoco_result = {\n",
    "\t\t\t\t\"image_id\": image_id,\n",
    "\t\t\t\t\"category_id\": categories[category],\n",
    "\t\t\t\t\"bbox\": [xmin, ymin, xmax - xmin, ymax - ymin],\n",
    "\t\t\t\t\"score\": conf,\n",
    "\t\t\t}\n",
    "\t\t\tcoco_results.append(coco_result)"
   ]
  },
  {
   "cell_type": "code",
   "execution_count": 83,
   "metadata": {},
   "outputs": [],
   "source": [
    "import json\n",
    "\n",
    "with open('predictions.json', 'w') as f:\n",
    "\tjson.dump(coco_results, f)"
   ]
  }
 ],
 "metadata": {
  "kernelspec": {
   "display_name": "Python 3",
   "language": "python",
   "name": "python3"
  },
  "language_info": {
   "codemirror_mode": {
    "name": "ipython",
    "version": 3
   },
   "file_extension": ".py",
   "mimetype": "text/x-python",
   "name": "python",
   "nbconvert_exporter": "python",
   "pygments_lexer": "ipython3",
   "version": "3.11.3"
  }
 },
 "nbformat": 4,
 "nbformat_minor": 2
}
